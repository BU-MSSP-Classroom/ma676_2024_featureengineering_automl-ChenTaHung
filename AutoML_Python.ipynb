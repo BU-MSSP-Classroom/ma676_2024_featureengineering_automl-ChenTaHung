{
 "cells": [
  {
   "cell_type": "markdown",
   "id": "9c4b356f",
   "metadata": {},
   "source": [
    "# Class Workbook {.tabset .tabset-fade .tabset-pills}"
   ]
  },
  {
   "cell_type": "code",
   "execution_count": 3,
   "id": "86c496b2",
   "metadata": {
    "kernel": "Python3",
    "tags": [
     "report_cell"
    ]
   },
   "outputs": [],
   "source": [
    "import numpy as np\n",
    "import pandas as pd\n",
    "import math\n",
    "from matplotlib.pyplot import subplots\n",
    "import statsmodels.api as sm\n",
    "from plotnine import *\n",
    "import plotly.express as px\n",
    "import statsmodels.formula.api as smf\n",
    "#import ISLP as islp"
   ]
  },
  {
   "cell_type": "markdown",
   "id": "614d57a8",
   "metadata": {},
   "source": [
    "## Ames Housing data"
   ]
  },
  {
   "cell_type": "markdown",
   "id": "1417597f",
   "metadata": {},
   "source": [
    "We will look at the Ames Housing data.  The task is to predict the houses after 2008 based on data up to 2008."
   ]
  },
  {
   "cell_type": "code",
   "execution_count": 4,
   "id": "dea4020c",
   "metadata": {
    "kernel": "Python3",
    "tags": [
     "report_cell"
    ]
   },
   "outputs": [],
   "source": [
    "ames_raw=pd.read_csv(\"ames_raw.csv\")\n",
    "ames_raw_2009, ames_raw_2008= ames_raw.query('`Yr Sold`>=2008').copy(), ames_raw.query('`Yr Sold` <2008').copy()"
   ]
  },
  {
   "cell_type": "markdown",
   "id": "4a471445",
   "metadata": {},
   "source": [
    "The loss will be the same as before. If your algorithm decides to pay more than the actual price your company buys. If the predicted price is lower, your company will fail to buy.\n",
    "\n",
    "- If you bought for more than the actual value, you’ve overpaid.\n",
    "- If you bid less and lost, you lost a profit of 10% of the house price."
   ]
  },
  {
   "cell_type": "code",
   "execution_count": 47,
   "id": "17096f83",
   "metadata": {
    "kernel": "Python3",
    "tags": [
     "report_cell"
    ]
   },
   "outputs": [],
   "source": [
    "def calc_loss(prediction,actual):\n",
    "  difpred = actual-prediction\n",
    "  RMSE =pow(difpred.pow(2).mean(),1/2)\n",
    "  operation_loss=abs(sum(difpred[difpred<0]))+sum(0.1*actual[difpred>0])\n",
    "  return RMSE,operation_loss"
   ]
  },
  {
   "cell_type": "markdown",
   "id": "0f881df3",
   "metadata": {},
   "source": [
    "## Feature engineering"
   ]
  },
  {
   "cell_type": "markdown",
   "id": "81d5046d",
   "metadata": {},
   "source": [
    "### Types of Feature engineering\n",
    "There are several categories of feature engineering.\n",
    "\n",
    "1. Adding information from other sources\n",
    "2. Missing Data Handling\n",
    "3. Dealing with problematic values (outliers, inliers, etc)\n",
    "4. Making variables that make sense for the context\n",
    "5. Transformation\n",
    "6. Scaling\n",
    "7. Discretization"
   ]
  },
  {
   "cell_type": "markdown",
   "id": "efbde135",
   "metadata": {},
   "source": [
    "### 1. Adding information from other sources\n",
    "\n",
    "When handed a dataset, it's easy to jump right into the analysis.  This is typical behavior, especially for a novice.  However, there is often information that could be explored if you know what you are looking for.  There are a few categories of such information.\n",
    "\n",
    "a) Information that was not given to you but someone has access to.\n",
    "\n",
    "When you are not the data creator, sometimes you are not given access to certain information.  The most common is information that pertains to privacy or protected attributes.  This information is often not given to you for reasons external to the project you are working on.  However, in certain circumstances, if you know what you are looking for, you might be able to negotiate information that could save you some headaches down the line. Think outside the box and be creative.  The important caveat is that obtaining some information could have legal consequences.  Web scraping and other means of data collection should be done with care.  Some industry such as pharmacies have strict rule that prohibits the use of pharmacy information for their retail purpose.\n",
    "\n",
    "b) Information that is public but you need to obtain.\n",
    "\n",
    "There are information about places and things on the internet that are easy to incorporate.\n",
    "For example, in housing data, geographic information could be tied to census information.  Financial information might require adjusting for inflation, which again can be found on the internet.  Other survey information might be available if you care to look for them.  One thing to be careful is that not all information that you can find will be useful.  You need to balance the time needed vs the benefit of the information.\n",
    "\n",
    "c) Information that is confusing for machines\n",
    "\n",
    "Coded variables without keys do not make sense but for a computer they seem like a numeric variable.  If not careful, one might include them as numeric.  Take `MS SubClass`, which codes the building class."
   ]
  },
  {
   "cell_type": "code",
   "execution_count": null,
   "id": "cba28f8a",
   "metadata": {
    "kernel": "Python3",
    "tags": [
     "report_cell"
    ]
   },
   "outputs": [],
   "source": [
    "ames_raw.loc[:,\"MS SubClass\"].value_counts()"
   ]
  },
  {
   "cell_type": "markdown",
   "id": "116f1a84",
   "metadata": {},
   "source": [
    "Unfortunately, the help file does not contain detailed information on the codes.  But with some research you will be able to [find](https://github.com/zzeniale/Ames-housing-price-prediction) that codes do not have ordering to them.  Therefore, you need to think carefully about what matters and then discretize the variable in some ways.\n",
    "\n",
    "  - 20 1-STORY 1946 & NEWER ALL STYLES\n",
    "  - 30 1-STORY 1945 & OLDER\n",
    "  - 40 1-STORY W/FINISHED ATTIC ALL AGES\n",
    "  - 45 1-1/2 STORY - UNFINISHED ALL AGES\n",
    "  - 50 1-1/2 STORY FINISHED ALL AGES\n",
    "  - 60 2-STORY 1946 & NEWER\n",
    "  - 70 2-STORY 1945 & OLDER\n",
    "  - 75 2-1/2 STORY ALL AGES\n",
    "  - 80 SPLIT OR MULTI-LEVEL\n",
    "  - 85 SPLIT FOYER\n",
    "  - 90 DUPLEX - ALL STYLES AND AGES\n",
    "  - 120 1-STORY PUD (Planned Unit Development) - 1946 & NEWER\n",
    "  - 150 1-1/2 STORY PUD - ALL AGES\n",
    "  - 160 2-STORY PUD - 1946 & NEWER\n",
    "  - 180 PUD - MULTILEVEL - INCL SPLIT LEV/FOYER\n",
    "  - 190 2 FAMILY CONVERSION - ALL STYLES AND AGES"
   ]
  },
  {
   "cell_type": "markdown",
   "id": "bf0a62d0",
   "metadata": {},
   "source": [
    "### 2. Missing Data Handling\n",
    "\n",
    "To handle missing data, it's always essential to consider the context.  Data that is missing is not by themselves a problem.  The fundamental problem is the bias that these variable might pose down the line if incorporated.  Doing a careful imputation takes effort.  When time is of a concern, deleting variables with high rate of missingness should be considered.\n",
    "\n",
    "a) Missing data that is not really missing\n",
    "Variable such as `Garage Yr Blt` has 159 observations missing.  But if you look carefully, you will realize that the houses that are missing this information are the ones that have no garage.  This is not missing data but a coding problem.  One must decide what to do with such information based on the context.  You should not fill such missingness with some arbitrary number."
   ]
  },
  {
   "cell_type": "code",
   "execution_count": null,
   "id": "78a870c3",
   "metadata": {
    "kernel": "Python3",
    "tags": [
     "report_cell"
    ]
   },
   "outputs": [],
   "source": [
    "ames_raw.loc[np.isnan(ames_raw.loc[:,\"Garage Yr Blt\"]),\"Garage Cars\"]"
   ]
  },
  {
   "cell_type": "markdown",
   "id": "624f5554",
   "metadata": {},
   "source": [
    "b) Missing data that is too big\n",
    "Some variables might have too much missing data, and there may be a good reason for that.  If there are ways to craft a variable that could serve as a proxy for such information, one should try.  But if such effort introduces additional uncertainty, one might remove the variable altogether."
   ]
  },
  {
   "cell_type": "code",
   "execution_count": null,
   "id": "a4e5cf22",
   "metadata": {
    "kernel": "Python3",
    "tags": [
     "report_cell"
    ]
   },
   "outputs": [],
   "source": [
    "missing_data_proportion = ames_raw.isna().mean()"
   ]
  },
  {
   "cell_type": "code",
   "execution_count": null,
   "id": "f2208254",
   "metadata": {
    "kernel": "Python3",
    "tags": [
     "report_cell"
    ]
   },
   "outputs": [],
   "source": [
    "missing_data_proportion.iloc[np.where(missing_data_proportion>0.1)]\n",
    "import matplotlib.pyplot as plt\n",
    "\n",
    "plt.scatter(np.argsort(missing_data_proportion), missing_data_proportion,marker='o')\n",
    "# naming the x axis\n",
    "plt.xlabel(\"order\")\n",
    "# naming the y axis\n",
    "plt.ylabel('proportion missing')\n",
    "# giving a title to my graph\n",
    "plt.title('Missing data proportion')\n",
    "# function to show the plot\n",
    "plt.show()"
   ]
  },
  {
   "cell_type": "markdown",
   "id": "4d5495ae",
   "metadata": {},
   "source": [
    "c) Missing data that could be an additional information\n",
    "\n",
    "If missingness is intentional, one might add a variable to signify such missingness.  You will need to fill the missing value with some value, which depends on the variable.\n",
    "\n",
    "d) Missing completely at random (MCAR)\n",
    "\n",
    "If MCAR, one could remove the rows with missingness without introducing bias.  However, this is a strong assumption that is often not met in practice.\n",
    "\n",
    "e) Missing at Random (MAR)\n",
    "\n",
    "For MAR, regression-based imputation often is used.  Many packages allow you to do these imputations reasonably easily.  However, one thing that you will need to think about is that some imputation method will work better after transformation then before.  This will rely on the model being used to impute.  See `mi`, `mice`, etc for detail.\n",
    "\n",
    "f) Missing not at random (MNAR)\n",
    "\n",
    "MNAR variable is hard to deal with. One needs to weigh the cost and benefit of including such variables.  An example of such is a variable like income.  If all the low-income people are not responding, one might use a small number as a proxy.  But if there are reasons to believe there multiple categories of cause they are missing, and there is no way to tell, then you might be better off removing the variable."
   ]
  },
  {
   "cell_type": "markdown",
   "id": "a26088e2",
   "metadata": {},
   "source": [
    "### 3. Dealing with problematic values (outliers, inliers, etc)\n",
    "\n",
    "Problematic observations such as outliers are hard to find and often require you to revisit this step a few times.  This is important because you must deal with them before applying transformations.  For example, outliers would distort statistics such as means which would be problematic if you plan to use z-score transformation.  When you have a lot of zeros, this could impact how you want to transform a variable.  EDA often finds outliers, but they may not pop up until the modeling phase.  Truncating or removing data with outliers should be done with caution since they often introduce an unwanted feature in the data.\n",
    "\n",
    "Here is an illustration of two types of outliers that are harder and easier to find."
   ]
  },
  {
   "cell_type": "code",
   "execution_count": null,
   "id": "4d73afc0",
   "metadata": {
    "Rmd_chunk_options": "fig.width=12, fig.height=4",
    "kernel": "Python3",
    "tags": [
     "report_cell"
    ]
   },
   "outputs": [],
   "source": [
    "from scipy.stats import multivariate_normal\n",
    "dat=multivariate_normal([0, 0], [[3.0, 2.0], [2.0, 3.0]]).rvs(100)\n",
    "dat=np.vstack([dat,[7.0,7.0],[-3.0,4.0]])\n",
    "import matplotlib.pyplot as plt\n",
    "\n",
    "col=[]\n",
    "for i in range(100):\n",
    "  col.append(\"blue\")\n",
    "\n",
    "\n",
    "col.append(\"magenta\")\n",
    "col.append(\"magenta\")\n",
    "\n",
    "for i in range(102):\n",
    "    plt.scatter(dat[i,0],dat[i,1],marker='o',color=col[i])\n",
    "\n",
    "plt.show()"
   ]
  },
  {
   "cell_type": "code",
   "execution_count": null,
   "id": "3425b6a6",
   "metadata": {
    "kernel": "Python3",
    "tags": [
     "report_cell"
    ]
   },
   "outputs": [],
   "source": [
    "xx=range(0, 102,1)\n",
    "for i in range(102):\n",
    "    plt.scatter(xx[i],dat[i,0],marker='o',color=col[i])\n",
    "\n",
    "\n",
    "plt.show()"
   ]
  },
  {
   "cell_type": "code",
   "execution_count": null,
   "id": "22c57e61",
   "metadata": {
    "kernel": "Python3",
    "tags": [
     "report_cell"
    ]
   },
   "outputs": [],
   "source": [
    "for i in range(102):\n",
    "    plt.scatter(xx[i],dat[i,1],marker='o',color=col[i])\n",
    "\n",
    "plt.show()"
   ]
  },
  {
   "cell_type": "markdown",
   "id": "fc08f91e",
   "metadata": {},
   "source": [
    "Look at the basement and the 2nd floor Square footage, you can see that there are bimodality as well as properties that have outliers.  This should make you cautious of performing scaling to these variables."
   ]
  },
  {
   "cell_type": "code",
   "execution_count": null,
   "id": "2721b874",
   "metadata": {
    "kernel": "Python3",
    "tags": [
     "report_cell"
    ]
   },
   "outputs": [],
   "source": [
    "import matplotlib.pyplot as plt\n",
    "plt.scatter(ames_raw.loc[:,\"Bsmt Unf SF\"], ames_raw.loc[:,\"2nd Flr SF\"],marker='o')\n",
    "# naming the x axis\n",
    "plt.xlabel(\"Bsmt Unf SF\")\n",
    "# naming the y axis\n",
    "plt.ylabel('2nd Flr SF')\n",
    "\n",
    "# giving a title to my graph\n",
    "plt.title('Bsmt Unf SF vs 2nd Flr SF')\n",
    "\n",
    "# function to show the plot\n",
    "plt.show()\n",
    "\n",
    "# plot(ames_raw$`Bsmt Unf SF`,ames_raw$`2nd Flr SF`)"
   ]
  },
  {
   "cell_type": "markdown",
   "id": "e84c05d6",
   "metadata": {},
   "source": [
    "### 4. Making variables that make sense for the context\n",
    "\n",
    "Context matters when doing feature engineering.  Take, for example, the Ames housing data.  Ames is a university town where many people have some ties to the university of Iowa.  Therefore, looking at things like distance from the university might make sense to include in the analysis.  Another thing to think about is things like the Year built. The impact of the year built is not absolute and shifts over the years.  Therefore one might want to make a variable that is the age of the house at sales."
   ]
  },
  {
   "cell_type": "code",
   "execution_count": null,
   "id": "5132d3eb",
   "metadata": {
    "kernel": "Python3",
    "tags": [
     "report_cell"
    ]
   },
   "outputs": [],
   "source": [
    "# handling Year features\n",
    "ames_raw[\"yrs_since_remod\"]=  ames_raw.loc[:,\"Yr Sold\"] -  ames_raw.loc[:,\"Year Remod/Add\"]\n",
    "\n",
    "# Total Living Area\n",
    "ames_raw[\"TotalArea\"] =ames_raw.loc[:,\"Gr Liv Area\"] +  ames_raw.loc[:,\"Total Bsmt SF\"]\n",
    "\n",
    "# TotalBath\n",
    "ames_raw[\"TotalBath\"] =ames_raw.loc[:,\"Bsmt Full Bath\"] + 0.5 * ames_raw.loc[:,\"Bsmt Half Bath\"]+ames_raw.loc[:,\"Full Bath\"] + 0.5 * ames_raw.loc[:,\"Half Bath\"]"
   ]
  },
  {
   "cell_type": "markdown",
   "id": "49912ba2",
   "metadata": {},
   "source": [
    "### 5. Transformation\n",
    "\n",
    "When the predictor is right skewed they tend to distort the linear model by exhibiting leverage points.  Taking a log will resolve such a problem."
   ]
  },
  {
   "cell_type": "code",
   "execution_count": null,
   "id": "4b14a709",
   "metadata": {
    "Rmd_chunk_options": "fig.width=7,fig.height=4",
    "kernel": "Python3",
    "tags": [
     "report_cell"
    ]
   },
   "outputs": [],
   "source": [
    "(\n",
    "  ggplot(ames_raw)+geom_point()+aes(x=\"Gr Liv Area\",y=\"SalePrice\")+xlab(\"Above grade (ground) living area square feet\")+ylab(\"Sale Price\")+geom_smooth(method=\"lm\",se=False)\n",
    ")\n",
    "(\n",
    "ggplot(ames_raw)+geom_point()+aes(x=\"Gr Liv Area\",y=\"SalePrice\")+xlab(\"Above grade (ground) living area square feet\")+ylab(\"Sale Price\")+geom_smooth(method=\"lm\",se=False)+scale_y_log10()+scale_x_log10()\n",
    ")"
   ]
  },
  {
   "cell_type": "markdown",
   "id": "abe43e41",
   "metadata": {},
   "source": [
    "### 6. Scaling, centering and normalizing.\n",
    "\n",
    "For linear regression models, centering and scaling does not change the model itself, but they change the interpretability of the model coefficients. Converting all the predictors on a similar scale has its advantage because the size of the coefficient will directly indicate the influence of the predictor. For some hierarchical models, scaling will also help with the convergence problem. But scaling is critical for all the distance-based methods you will encounter later in the semester."
   ]
  },
  {
   "cell_type": "markdown",
   "id": "8d3dac4f",
   "metadata": {},
   "source": [
    "### 7. Discretization\n",
    "\n",
    "Categorical variables need to be coded appropriately.  Dummy coding or one-hot-encoding is one way when the information is nominal.  Take, for example, the building type variable by default, it's a character variable with five values."
   ]
  },
  {
   "cell_type": "code",
   "execution_count": null,
   "id": "a3c1ed63",
   "metadata": {
    "kernel": "Python3",
    "tags": [
     "report_cell"
    ]
   },
   "outputs": [],
   "source": [
    "ames_raw.loc[:,\"Bldg Type\"].value_counts()"
   ]
  },
  {
   "cell_type": "markdown",
   "id": "65490578",
   "metadata": {},
   "source": [
    "One can use contextual information to convert them into meaningful variables like a single family and multiple families or a shared house.  Or use dummy coding."
   ]
  },
  {
   "cell_type": "code",
   "execution_count": null,
   "id": "70667424",
   "metadata": {
    "kernel": "Python3",
    "tags": [
     "report_cell"
    ]
   },
   "outputs": [],
   "source": [
    "pd.get_dummies(ames_raw.loc[:,\"Bldg Type\"])"
   ]
  },
  {
   "cell_type": "markdown",
   "id": "9e7cb574",
   "metadata": {},
   "source": [
    "It's essential to know how a dummy variable is included in a model as it is model specific."
   ]
  },
  {
   "cell_type": "markdown",
   "id": "866a1435",
   "metadata": {},
   "source": [
    "### 8. Grouping\n",
    "\n",
    "Not all categorical variable needs a unique category.  One might consider grouping some categories so that you have fewer categories to model.\n",
    "For example, the overall condition is rated from 1 to 10, as shown below."
   ]
  },
  {
   "cell_type": "code",
   "execution_count": null,
   "id": "95c3a9ae",
   "metadata": {
    "kernel": "Python3",
    "tags": [
     "report_cell"
    ]
   },
   "outputs": [],
   "source": [
    "(\n",
    "  ggplot(ames_raw)+geom_histogram()+aes(x=\"Overall Cond\")\n",
    ")"
   ]
  },
  {
   "cell_type": "markdown",
   "id": "51d518d0",
   "metadata": {},
   "source": [
    "It's important to know which way is better.  For the Ames data it is infact\n",
    "  10 Very Excellent\n",
    "  9 Excellent\n",
    "  8 Very Good\n",
    "  7 Good\n",
    "  6 Above Average\n",
    "  5 Average\n",
    "  4 Below Average\n",
    "  3 Fair\n",
    "  2 Poor\n",
    "  1 Very Poor\n",
    "\n",
    "One could convert them into integers since there is explicit ordering.  However, the distribution of the variable is uneven, with many observations at five and very few below 5.  In such a case, combining the categories into three may be better since the data does not seem to have the resolution to understand the ten levels."
   ]
  },
  {
   "cell_type": "code",
   "execution_count": null,
   "id": "62787616",
   "metadata": {
    "kernel": "Python3",
    "tags": [
     "report_cell"
    ]
   },
   "outputs": [],
   "source": [
    "def if_this_else_that(x, thresh, low, mid, high):\n",
    "    if x < thresh:\n",
    "        res = low\n",
    "    elif x > thresh:\n",
    "        res = high\n",
    "    else:\n",
    "        res = mid\n",
    "    return(res)\n",
    "\n",
    "ames_raw[\"OverallCond3\"]= ames_raw[\"Overall Cond\"].apply(lambda x: if_this_else_that(x, 5, 1, 2, 3))\n",
    "(\n",
    "  ggplot(ames_raw)+geom_histogram()+aes(x=\"OverallCond3\")\n",
    ")"
   ]
  },
  {
   "cell_type": "markdown",
   "id": "7c33fa4b",
   "metadata": {},
   "source": [
    "### 9. Selecting and compressing\n",
    "\n",
    "There are various reasons why you need to be selective of what to include.  This could be the lack of information from the variable due to the limitations posed by the sample size, contextual reasons, or overlapping information.\n",
    "\n",
    "- If there is very small variability in some variable, it's very unlikely that you will get some differetiating information out of them.\n",
    "\n",
    "For highly correlated variables you might select variables so that correlation does not impact the model building."
   ]
  },
  {
   "cell_type": "code",
   "execution_count": null,
   "id": "23e8350b",
   "metadata": {
    "kernel": "Python3",
    "tags": [
     "report_cell"
    ]
   },
   "outputs": [],
   "source": [
    "# Correlation matrix\n",
    "import seaborn as sns\n",
    "import matplotlib.pyplot as plt\n",
    "\n",
    "g = sns.clustermap(ames_raw.select_dtypes(include=np.number).corr(),\n",
    "                   method = 'complete',\n",
    "                   cmap   = 'RdBu',\n",
    "                   annot  = True,\n",
    "                   annot_kws = {'size': 8})\n",
    "plt.setp(g.ax_heatmap.get_xticklabels(), rotation=60);\n",
    "plt.show()"
   ]
  },
  {
   "cell_type": "markdown",
   "id": "e4f97fac",
   "metadata": {},
   "source": [
    "Alternatively, you could compress the correlated variable using dimension reduction.  However, it's no free lunch since you need to do all the scaling and missing data processing before you can apply PCA and you need to decide how many components to include.  pcaMethods package offers a way to fit a model even in the presence of missing data."
   ]
  },
  {
   "cell_type": "code",
   "execution_count": null,
   "id": "cd5d7176",
   "metadata": {
    "kernel": "Python3",
    "tags": [
     "report_cell"
    ]
   },
   "outputs": [],
   "source": [
    "from sklearn.decomposition import PCA\n",
    "from sklearn.impute import SimpleImputer\n",
    "imp_mean = SimpleImputer(missing_values=np.nan, strategy='mean')\n",
    "imp_mean.fit(ames_raw.select_dtypes(include=np.number))\n",
    "ames_raw_fill=imp_mean.transform(ames_raw.select_dtypes(include=np.number))\n",
    "pca = PCA(n_components=20)\n",
    "pca.fit(ames_raw_fill,20)\n",
    "print(pca.explained_variance_ratio_)"
   ]
  },
  {
   "cell_type": "markdown",
   "id": "8a02dedf",
   "metadata": {},
   "source": [
    "## In class work"
   ]
  },
  {
   "cell_type": "markdown",
   "id": "e45075f7",
   "metadata": {},
   "source": [
    "### Model fitting\n",
    "\n",
    "Since you've worked on it in MA679 please copy and paste your best model here."
   ]
  },
  {
   "cell_type": "code",
   "execution_count": 5,
   "id": "3e132d1d",
   "metadata": {
    "Rmd_chunk_options": "echo=TRUE",
    "kernel": "Python3",
    "tags": [
     "report_cell"
    ]
   },
   "outputs": [],
   "source": [
    "\n",
    "lmfit_2008 = sm.OLS(ames_raw_2008['SalePrice'], sm.add_constant(ames_raw_2008[['Lot Area', 'Overall Qual',\n",
    "       'Overall Cond', 'Year Built', 'Year Remod/Add', '1st Flr SF',\n",
    "       '2nd Flr SF', 'Low Qual Fin SF', 'Gr Liv Area', 'Full Bath',\n",
    "       'Half Bath', 'Bedroom AbvGr', 'Kitchen AbvGr', 'TotRms AbvGrd',\n",
    "       'Fireplaces', 'Wood Deck SF', 'Open Porch SF', 'Enclosed Porch',\n",
    "       '3Ssn Porch', 'Screen Porch', 'Pool Area', 'Misc Val', 'Mo Sold',\n",
    "       'Yr Sold']])).fit()\n",
    "\n"
   ]
  },
  {
   "cell_type": "code",
   "execution_count": 48,
   "id": "3355135e",
   "metadata": {},
   "outputs": [
    {
     "data": {
      "text/plain": [
       "(35187.62155833909, 33892139.866361514)"
      ]
     },
     "execution_count": 48,
     "metadata": {},
     "output_type": "execute_result"
    }
   ],
   "source": [
    "pred_2009=lmfit_2008.predict(sm.add_constant(ames_raw_2009[['Lot Area', 'Overall Qual',\n",
    "       'Overall Cond', 'Year Built', 'Year Remod/Add', '1st Flr SF',\n",
    "       '2nd Flr SF', 'Low Qual Fin SF', 'Gr Liv Area', 'Full Bath',\n",
    "       'Half Bath', 'Bedroom AbvGr', 'Kitchen AbvGr', 'TotRms AbvGrd',\n",
    "       'Fireplaces', 'Wood Deck SF', 'Open Porch SF', 'Enclosed Porch',\n",
    "       '3Ssn Porch', 'Screen Porch', 'Pool Area', 'Misc Val', 'Mo Sold',\n",
    "       'Yr Sold']]))\n",
    "calc_loss(pred_2009,ames_raw_2009.loc[:,\"SalePrice\"].values)"
   ]
  },
  {
   "cell_type": "markdown",
   "id": "a602fe08",
   "metadata": {},
   "source": [
    "Your answer:\n",
    "\n",
    "~~~\n",
    "Please write your answer in full sentences.\n",
    "\n",
    "\n",
    "~~~\n",
    "\n",
    "Please perform feature engineering on the Ames housing data that you think will help with the prediction."
   ]
  },
  {
   "cell_type": "code",
   "execution_count": 16,
   "id": "ba99bd44",
   "metadata": {},
   "outputs": [
    {
     "data": {
      "text/plain": [
       "Pool QC         0.995563\n",
       "Misc Feature    0.963823\n",
       "Alley           0.932423\n",
       "Fence           0.804778\n",
       "Fireplace Qu    0.485324\n",
       "                  ...   \n",
       "PID             0.000000\n",
       "Central Air     0.000000\n",
       "1st Flr SF      0.000000\n",
       "2nd Flr SF      0.000000\n",
       "SalePrice       0.000000\n",
       "Length: 82, dtype: float64"
      ]
     },
     "execution_count": 16,
     "metadata": {},
     "output_type": "execute_result"
    }
   ],
   "source": [
    "#Check Missing Percentage\n",
    "ames_raw.apply(lambda x: sum(x.isnull())/ames_raw.shape[0],axis=0).sort_values(ascending=False)"
   ]
  },
  {
   "cell_type": "code",
   "execution_count": 18,
   "id": "3a658918",
   "metadata": {},
   "outputs": [
    {
     "data": {
      "text/plain": [
       "Index(['Order', 'PID', 'MS SubClass', 'MS Zoning', 'Lot Frontage', 'Lot Area',\n",
       "       'Street', 'Lot Shape', 'Land Contour', 'Utilities', 'Lot Config',\n",
       "       'Land Slope', 'Neighborhood', 'Condition 1', 'Condition 2', 'Bldg Type',\n",
       "       'House Style', 'Overall Qual', 'Overall Cond', 'Year Built',\n",
       "       'Year Remod/Add', 'Roof Style', 'Roof Matl', 'Exterior 1st',\n",
       "       'Exterior 2nd', 'Mas Vnr Type', 'Mas Vnr Area', 'Exter Qual',\n",
       "       'Exter Cond', 'Foundation', 'Bsmt Qual', 'Bsmt Cond', 'Bsmt Exposure',\n",
       "       'BsmtFin Type 1', 'BsmtFin SF 1', 'BsmtFin Type 2', 'BsmtFin SF 2',\n",
       "       'Bsmt Unf SF', 'Total Bsmt SF', 'Heating', 'Heating QC', 'Central Air',\n",
       "       'Electrical', '1st Flr SF', '2nd Flr SF', 'Low Qual Fin SF',\n",
       "       'Gr Liv Area', 'Bsmt Full Bath', 'Bsmt Half Bath', 'Full Bath',\n",
       "       'Half Bath', 'Bedroom AbvGr', 'Kitchen AbvGr', 'Kitchen Qual',\n",
       "       'TotRms AbvGrd', 'Functional', 'Fireplaces', 'Garage Type',\n",
       "       'Garage Yr Blt', 'Garage Finish', 'Garage Cars', 'Garage Area',\n",
       "       'Garage Qual', 'Garage Cond', 'Paved Drive', 'Wood Deck SF',\n",
       "       'Open Porch SF', 'Enclosed Porch', '3Ssn Porch', 'Screen Porch',\n",
       "       'Pool Area', 'Misc Val', 'Mo Sold', 'Yr Sold', 'Sale Type',\n",
       "       'Sale Condition', 'SalePrice'],\n",
       "      dtype='object')"
      ]
     },
     "execution_count": 18,
     "metadata": {},
     "output_type": "execute_result"
    }
   ],
   "source": [
    "(x:=ames_raw.apply(lambda x: sum(x.isnull())/ames_raw.shape[0],axis=0))[x<=0.2].index"
   ]
  },
  {
   "cell_type": "code",
   "execution_count": 49,
   "metadata": {},
   "outputs": [],
   "source": [
    "ames_raw_sel_var = ames_raw[list((x:=ames_raw.apply(lambda x: sum(x.isnull())/ames_raw.shape[0],axis=0))[x<=0.2].index)]"
   ]
  },
  {
   "cell_type": "code",
   "execution_count": 50,
   "id": "5df2baa2",
   "metadata": {},
   "outputs": [
    {
     "data": {
      "text/plain": [
       "Index([], dtype='object')"
      ]
     },
     "execution_count": 50,
     "metadata": {},
     "output_type": "execute_result"
    }
   ],
   "source": [
    "# Single value column detection\n",
    "ames_raw_sel_var.columns[ames_raw_sel_var.apply(lambda x: len(x.value_counts())) == 1]"
   ]
  },
  {
   "cell_type": "code",
   "execution_count": 51,
   "id": "e9396683",
   "metadata": {},
   "outputs": [
    {
     "name": "stderr",
     "output_type": "stream",
     "text": [
      "/var/folders/rw/d38rlg1n0zj31vgpkz1fm9280000gn/T/ipykernel_7271/141530467.py:1: SettingWithCopyWarning: \n",
      "A value is trying to be set on a copy of a slice from a DataFrame\n",
      "\n",
      "See the caveats in the documentation: https://pandas.pydata.org/pandas-docs/stable/user_guide/indexing.html#returning-a-view-versus-a-copy\n"
     ]
    }
   ],
   "source": [
    "ames_raw_sel_var.drop(columns=[\"Order\", \"PID\"],inplace=True) # Order,PID is not gonna be used in regression"
   ]
  },
  {
   "cell_type": "code",
   "execution_count": 52,
   "id": "c8ee338d",
   "metadata": {},
   "outputs": [
    {
     "data": {
      "text/html": [
       "<div>\n",
       "<style scoped>\n",
       "    .dataframe tbody tr th:only-of-type {\n",
       "        vertical-align: middle;\n",
       "    }\n",
       "\n",
       "    .dataframe tbody tr th {\n",
       "        vertical-align: top;\n",
       "    }\n",
       "\n",
       "    .dataframe thead th {\n",
       "        text-align: right;\n",
       "    }\n",
       "</style>\n",
       "<table border=\"1\" class=\"dataframe\">\n",
       "  <thead>\n",
       "    <tr style=\"text-align: right;\">\n",
       "      <th></th>\n",
       "      <th>MS SubClass</th>\n",
       "      <th>MS Zoning</th>\n",
       "      <th>Lot Frontage</th>\n",
       "      <th>Lot Area</th>\n",
       "      <th>Street</th>\n",
       "      <th>Lot Shape</th>\n",
       "      <th>Land Contour</th>\n",
       "      <th>Utilities</th>\n",
       "      <th>Lot Config</th>\n",
       "      <th>Land Slope</th>\n",
       "      <th>...</th>\n",
       "      <th>Enclosed Porch</th>\n",
       "      <th>3Ssn Porch</th>\n",
       "      <th>Screen Porch</th>\n",
       "      <th>Pool Area</th>\n",
       "      <th>Misc Val</th>\n",
       "      <th>Mo Sold</th>\n",
       "      <th>Yr Sold</th>\n",
       "      <th>Sale Type</th>\n",
       "      <th>Sale Condition</th>\n",
       "      <th>SalePrice</th>\n",
       "    </tr>\n",
       "  </thead>\n",
       "  <tbody>\n",
       "    <tr>\n",
       "      <th>0</th>\n",
       "      <td>20</td>\n",
       "      <td>RL</td>\n",
       "      <td>141.0</td>\n",
       "      <td>31770</td>\n",
       "      <td>Pave</td>\n",
       "      <td>IR1</td>\n",
       "      <td>Lvl</td>\n",
       "      <td>AllPub</td>\n",
       "      <td>Corner</td>\n",
       "      <td>Gtl</td>\n",
       "      <td>...</td>\n",
       "      <td>0</td>\n",
       "      <td>0</td>\n",
       "      <td>0</td>\n",
       "      <td>0</td>\n",
       "      <td>0</td>\n",
       "      <td>5</td>\n",
       "      <td>2010</td>\n",
       "      <td>WD</td>\n",
       "      <td>Normal</td>\n",
       "      <td>215000</td>\n",
       "    </tr>\n",
       "    <tr>\n",
       "      <th>1</th>\n",
       "      <td>20</td>\n",
       "      <td>RH</td>\n",
       "      <td>80.0</td>\n",
       "      <td>11622</td>\n",
       "      <td>Pave</td>\n",
       "      <td>Reg</td>\n",
       "      <td>Lvl</td>\n",
       "      <td>AllPub</td>\n",
       "      <td>Inside</td>\n",
       "      <td>Gtl</td>\n",
       "      <td>...</td>\n",
       "      <td>0</td>\n",
       "      <td>0</td>\n",
       "      <td>120</td>\n",
       "      <td>0</td>\n",
       "      <td>0</td>\n",
       "      <td>6</td>\n",
       "      <td>2010</td>\n",
       "      <td>WD</td>\n",
       "      <td>Normal</td>\n",
       "      <td>105000</td>\n",
       "    </tr>\n",
       "    <tr>\n",
       "      <th>2</th>\n",
       "      <td>20</td>\n",
       "      <td>RL</td>\n",
       "      <td>81.0</td>\n",
       "      <td>14267</td>\n",
       "      <td>Pave</td>\n",
       "      <td>IR1</td>\n",
       "      <td>Lvl</td>\n",
       "      <td>AllPub</td>\n",
       "      <td>Corner</td>\n",
       "      <td>Gtl</td>\n",
       "      <td>...</td>\n",
       "      <td>0</td>\n",
       "      <td>0</td>\n",
       "      <td>0</td>\n",
       "      <td>0</td>\n",
       "      <td>12500</td>\n",
       "      <td>6</td>\n",
       "      <td>2010</td>\n",
       "      <td>WD</td>\n",
       "      <td>Normal</td>\n",
       "      <td>172000</td>\n",
       "    </tr>\n",
       "    <tr>\n",
       "      <th>3</th>\n",
       "      <td>20</td>\n",
       "      <td>RL</td>\n",
       "      <td>93.0</td>\n",
       "      <td>11160</td>\n",
       "      <td>Pave</td>\n",
       "      <td>Reg</td>\n",
       "      <td>Lvl</td>\n",
       "      <td>AllPub</td>\n",
       "      <td>Corner</td>\n",
       "      <td>Gtl</td>\n",
       "      <td>...</td>\n",
       "      <td>0</td>\n",
       "      <td>0</td>\n",
       "      <td>0</td>\n",
       "      <td>0</td>\n",
       "      <td>0</td>\n",
       "      <td>4</td>\n",
       "      <td>2010</td>\n",
       "      <td>WD</td>\n",
       "      <td>Normal</td>\n",
       "      <td>244000</td>\n",
       "    </tr>\n",
       "    <tr>\n",
       "      <th>4</th>\n",
       "      <td>60</td>\n",
       "      <td>RL</td>\n",
       "      <td>74.0</td>\n",
       "      <td>13830</td>\n",
       "      <td>Pave</td>\n",
       "      <td>IR1</td>\n",
       "      <td>Lvl</td>\n",
       "      <td>AllPub</td>\n",
       "      <td>Inside</td>\n",
       "      <td>Gtl</td>\n",
       "      <td>...</td>\n",
       "      <td>0</td>\n",
       "      <td>0</td>\n",
       "      <td>0</td>\n",
       "      <td>0</td>\n",
       "      <td>0</td>\n",
       "      <td>3</td>\n",
       "      <td>2010</td>\n",
       "      <td>WD</td>\n",
       "      <td>Normal</td>\n",
       "      <td>189900</td>\n",
       "    </tr>\n",
       "  </tbody>\n",
       "</table>\n",
       "<p>5 rows × 75 columns</p>\n",
       "</div>"
      ],
      "text/plain": [
       "   MS SubClass MS Zoning  Lot Frontage  Lot Area Street Lot Shape  \\\n",
       "0           20        RL         141.0     31770   Pave       IR1   \n",
       "1           20        RH          80.0     11622   Pave       Reg   \n",
       "2           20        RL          81.0     14267   Pave       IR1   \n",
       "3           20        RL          93.0     11160   Pave       Reg   \n",
       "4           60        RL          74.0     13830   Pave       IR1   \n",
       "\n",
       "  Land Contour Utilities Lot Config Land Slope  ... Enclosed Porch 3Ssn Porch  \\\n",
       "0          Lvl    AllPub     Corner        Gtl  ...              0          0   \n",
       "1          Lvl    AllPub     Inside        Gtl  ...              0          0   \n",
       "2          Lvl    AllPub     Corner        Gtl  ...              0          0   \n",
       "3          Lvl    AllPub     Corner        Gtl  ...              0          0   \n",
       "4          Lvl    AllPub     Inside        Gtl  ...              0          0   \n",
       "\n",
       "  Screen Porch Pool Area Misc Val  Mo Sold  Yr Sold  Sale Type  \\\n",
       "0            0         0        0        5     2010        WD    \n",
       "1          120         0        0        6     2010        WD    \n",
       "2            0         0    12500        6     2010        WD    \n",
       "3            0         0        0        4     2010        WD    \n",
       "4            0         0        0        3     2010        WD    \n",
       "\n",
       "   Sale Condition SalePrice  \n",
       "0          Normal    215000  \n",
       "1          Normal    105000  \n",
       "2          Normal    172000  \n",
       "3          Normal    244000  \n",
       "4          Normal    189900  \n",
       "\n",
       "[5 rows x 75 columns]"
      ]
     },
     "execution_count": 52,
     "metadata": {},
     "output_type": "execute_result"
    }
   ],
   "source": [
    "ames_raw_sel_var.head()"
   ]
  },
  {
   "cell_type": "code",
   "execution_count": 53,
   "id": "e19e72bd",
   "metadata": {},
   "outputs": [],
   "source": [
    "from scipy.stats import  ttest_ind, chi2_contingency, levene\n",
    "\n",
    "def univariate_analysis(df, target='SalePrice'):\n",
    "    result = []\n",
    "    for col in df.columns:\n",
    "        if col != target:\n",
    "            if np.issubdtype(df[col].dtype, np.number):\n",
    "                # Perform Levene's test for equality of variances\n",
    "                stat, p_val_levene = levene(df[col].dropna(), df[target].dropna())\n",
    "                \n",
    "                if p_val_levene < 0.05:\n",
    "                    # Variances are not equal, use Welch's t-test\n",
    "                    t_stat, p_val_t = ttest_ind(df[col].dropna(), df[target].dropna(), equal_var=False)\n",
    "                    test_type = \"Welch's t-test\"\n",
    "                else:\n",
    "                    # Variances are equal, use Student's t-test\n",
    "                    t_stat, p_val_t = ttest_ind(df[col].dropna(), df[target].dropna(), equal_var=True)\n",
    "                    test_type = \"Student's t-test\"\n",
    "                \n",
    "                result.append([col, test_type, t_stat, p_val_t, stat, p_val_levene])\n",
    "            else:\n",
    "                # For chi-square test, assume preprocessing is done to bin 'SalePrice'\n",
    "                # Perform chi-square test\n",
    "                contingency = pd.crosstab(df[col], pd.cut(df[target], bins=4))  # Example binning\n",
    "                chi2_stat, p_val, _, _ = chi2_contingency(contingency)\n",
    "                test_type = 'chi-square'\n",
    "                result.append([col, test_type, chi2_stat, p_val, np.nan, np.nan])\n",
    "                \n",
    "    result_df = pd.DataFrame(result, columns=['Variable', 'Test', 'Statistic', 'p-value', 'F-statistic', 'F p-value'])\n",
    "    return result_df"
   ]
  },
  {
   "cell_type": "code",
   "execution_count": 88,
   "id": "a9fd8f8a",
   "metadata": {},
   "outputs": [
    {
     "data": {
      "text/html": [
       "<div>\n",
       "<style scoped>\n",
       "    .dataframe tbody tr th:only-of-type {\n",
       "        vertical-align: middle;\n",
       "    }\n",
       "\n",
       "    .dataframe tbody tr th {\n",
       "        vertical-align: top;\n",
       "    }\n",
       "\n",
       "    .dataframe thead th {\n",
       "        text-align: right;\n",
       "    }\n",
       "</style>\n",
       "<table border=\"1\" class=\"dataframe\">\n",
       "  <thead>\n",
       "    <tr style=\"text-align: right;\">\n",
       "      <th></th>\n",
       "      <th>Variable</th>\n",
       "      <th>Test</th>\n",
       "      <th>Statistic</th>\n",
       "      <th>p-value</th>\n",
       "      <th>F-statistic</th>\n",
       "      <th>F p-value</th>\n",
       "    </tr>\n",
       "  </thead>\n",
       "  <tbody>\n",
       "    <tr>\n",
       "      <th>0</th>\n",
       "      <td>MS SubClass</td>\n",
       "      <td>Welch's t-test</td>\n",
       "      <td>-122.464552</td>\n",
       "      <td>0.0</td>\n",
       "      <td>2504.780248</td>\n",
       "      <td>0.0</td>\n",
       "    </tr>\n",
       "    <tr>\n",
       "      <th>2</th>\n",
       "      <td>Lot Frontage</td>\n",
       "      <td>Welch's t-test</td>\n",
       "      <td>-122.456542</td>\n",
       "      <td>0.0</td>\n",
       "      <td>2086.932744</td>\n",
       "      <td>0.0</td>\n",
       "    </tr>\n",
       "    <tr>\n",
       "      <th>3</th>\n",
       "      <td>Lot Area</td>\n",
       "      <td>Welch's t-test</td>\n",
       "      <td>-115.068998</td>\n",
       "      <td>0.0</td>\n",
       "      <td>2186.157349</td>\n",
       "      <td>0.0</td>\n",
       "    </tr>\n",
       "    <tr>\n",
       "      <th>15</th>\n",
       "      <td>Overall Qual</td>\n",
       "      <td>Welch's t-test</td>\n",
       "      <td>-122.499324</td>\n",
       "      <td>0.0</td>\n",
       "      <td>2507.498645</td>\n",
       "      <td>0.0</td>\n",
       "    </tr>\n",
       "    <tr>\n",
       "      <th>16</th>\n",
       "      <td>Overall Cond</td>\n",
       "      <td>Welch's t-test</td>\n",
       "      <td>-122.499684</td>\n",
       "      <td>0.0</td>\n",
       "      <td>2507.530646</td>\n",
       "      <td>0.0</td>\n",
       "    </tr>\n",
       "    <tr>\n",
       "      <th>17</th>\n",
       "      <td>Year Built</td>\n",
       "      <td>Welch's t-test</td>\n",
       "      <td>-121.167697</td>\n",
       "      <td>0.0</td>\n",
       "      <td>2505.346170</td>\n",
       "      <td>0.0</td>\n",
       "    </tr>\n",
       "    <tr>\n",
       "      <th>18</th>\n",
       "      <td>Year Remod/Add</td>\n",
       "      <td>Welch's t-test</td>\n",
       "      <td>-121.158954</td>\n",
       "      <td>0.0</td>\n",
       "      <td>2505.963227</td>\n",
       "      <td>0.0</td>\n",
       "    </tr>\n",
       "    <tr>\n",
       "      <th>24</th>\n",
       "      <td>Mas Vnr Area</td>\n",
       "      <td>Welch's t-test</td>\n",
       "      <td>-122.434100</td>\n",
       "      <td>0.0</td>\n",
       "      <td>2478.850855</td>\n",
       "      <td>0.0</td>\n",
       "    </tr>\n",
       "    <tr>\n",
       "      <th>32</th>\n",
       "      <td>BsmtFin SF 1</td>\n",
       "      <td>Welch's t-test</td>\n",
       "      <td>-122.201550</td>\n",
       "      <td>0.0</td>\n",
       "      <td>2473.933969</td>\n",
       "      <td>0.0</td>\n",
       "    </tr>\n",
       "    <tr>\n",
       "      <th>34</th>\n",
       "      <td>BsmtFin SF 2</td>\n",
       "      <td>Welch's t-test</td>\n",
       "      <td>-122.469488</td>\n",
       "      <td>0.0</td>\n",
       "      <td>2502.276175</td>\n",
       "      <td>0.0</td>\n",
       "    </tr>\n",
       "    <tr>\n",
       "      <th>35</th>\n",
       "      <td>Bsmt Unf SF</td>\n",
       "      <td>Welch's t-test</td>\n",
       "      <td>-122.122661</td>\n",
       "      <td>0.0</td>\n",
       "      <td>2475.970450</td>\n",
       "      <td>0.0</td>\n",
       "    </tr>\n",
       "    <tr>\n",
       "      <th>36</th>\n",
       "      <td>Total Bsmt SF</td>\n",
       "      <td>Welch's t-test</td>\n",
       "      <td>-121.789049</td>\n",
       "      <td>0.0</td>\n",
       "      <td>2477.847668</td>\n",
       "      <td>0.0</td>\n",
       "    </tr>\n",
       "    <tr>\n",
       "      <th>41</th>\n",
       "      <td>1st Flr SF</td>\n",
       "      <td>Welch's t-test</td>\n",
       "      <td>-121.716298</td>\n",
       "      <td>0.0</td>\n",
       "      <td>2481.061221</td>\n",
       "      <td>0.0</td>\n",
       "    </tr>\n",
       "    <tr>\n",
       "      <th>42</th>\n",
       "      <td>2nd Flr SF</td>\n",
       "      <td>Welch's t-test</td>\n",
       "      <td>-122.274398</td>\n",
       "      <td>0.0</td>\n",
       "      <td>2477.549433</td>\n",
       "      <td>0.0</td>\n",
       "    </tr>\n",
       "    <tr>\n",
       "      <th>43</th>\n",
       "      <td>Low Qual Fin SF</td>\n",
       "      <td>Welch's t-test</td>\n",
       "      <td>-122.500264</td>\n",
       "      <td>0.0</td>\n",
       "      <td>2507.176967</td>\n",
       "      <td>0.0</td>\n",
       "    </tr>\n",
       "    <tr>\n",
       "      <th>44</th>\n",
       "      <td>Gr Liv Area</td>\n",
       "      <td>Welch's t-test</td>\n",
       "      <td>-121.484864</td>\n",
       "      <td>0.0</td>\n",
       "      <td>2473.537743</td>\n",
       "      <td>0.0</td>\n",
       "    </tr>\n",
       "    <tr>\n",
       "      <th>45</th>\n",
       "      <td>Bsmt Full Bath</td>\n",
       "      <td>Welch's t-test</td>\n",
       "      <td>-122.503161</td>\n",
       "      <td>0.0</td>\n",
       "      <td>2505.846319</td>\n",
       "      <td>0.0</td>\n",
       "    </tr>\n",
       "    <tr>\n",
       "      <th>46</th>\n",
       "      <td>Bsmt Half Bath</td>\n",
       "      <td>Welch's t-test</td>\n",
       "      <td>-122.503412</td>\n",
       "      <td>0.0</td>\n",
       "      <td>2505.879420</td>\n",
       "      <td>0.0</td>\n",
       "    </tr>\n",
       "    <tr>\n",
       "      <th>47</th>\n",
       "      <td>Full Bath</td>\n",
       "      <td>Welch's t-test</td>\n",
       "      <td>-122.502392</td>\n",
       "      <td>0.0</td>\n",
       "      <td>2507.553670</td>\n",
       "      <td>0.0</td>\n",
       "    </tr>\n",
       "    <tr>\n",
       "      <th>48</th>\n",
       "      <td>Half Bath</td>\n",
       "      <td>Welch's t-test</td>\n",
       "      <td>-122.503196</td>\n",
       "      <td>0.0</td>\n",
       "      <td>2507.562892</td>\n",
       "      <td>0.0</td>\n",
       "    </tr>\n",
       "    <tr>\n",
       "      <th>49</th>\n",
       "      <td>Bedroom AbvGr</td>\n",
       "      <td>Welch's t-test</td>\n",
       "      <td>-122.501520</td>\n",
       "      <td>0.0</td>\n",
       "      <td>2507.549365</td>\n",
       "      <td>0.0</td>\n",
       "    </tr>\n",
       "    <tr>\n",
       "      <th>50</th>\n",
       "      <td>Kitchen AbvGr</td>\n",
       "      <td>Welch's t-test</td>\n",
       "      <td>-122.502746</td>\n",
       "      <td>0.0</td>\n",
       "      <td>2507.592695</td>\n",
       "      <td>0.0</td>\n",
       "    </tr>\n",
       "    <tr>\n",
       "      <th>52</th>\n",
       "      <td>TotRms AbvGrd</td>\n",
       "      <td>Welch's t-test</td>\n",
       "      <td>-122.499088</td>\n",
       "      <td>0.0</td>\n",
       "      <td>2507.491622</td>\n",
       "      <td>0.0</td>\n",
       "    </tr>\n",
       "    <tr>\n",
       "      <th>54</th>\n",
       "      <td>Fireplaces</td>\n",
       "      <td>Welch's t-test</td>\n",
       "      <td>-122.503047</td>\n",
       "      <td>0.0</td>\n",
       "      <td>2507.545853</td>\n",
       "      <td>0.0</td>\n",
       "    </tr>\n",
       "    <tr>\n",
       "      <th>56</th>\n",
       "      <td>Garage Yr Blt</td>\n",
       "      <td>Welch's t-test</td>\n",
       "      <td>-121.163108</td>\n",
       "      <td>0.0</td>\n",
       "      <td>2369.694735</td>\n",
       "      <td>0.0</td>\n",
       "    </tr>\n",
       "    <tr>\n",
       "      <th>58</th>\n",
       "      <td>Garage Cars</td>\n",
       "      <td>Welch's t-test</td>\n",
       "      <td>-122.502256</td>\n",
       "      <td>0.0</td>\n",
       "      <td>2506.695033</td>\n",
       "      <td>0.0</td>\n",
       "    </tr>\n",
       "    <tr>\n",
       "      <th>59</th>\n",
       "      <td>Garage Area</td>\n",
       "      <td>Welch's t-test</td>\n",
       "      <td>-122.182638</td>\n",
       "      <td>0.0</td>\n",
       "      <td>2492.364251</td>\n",
       "      <td>0.0</td>\n",
       "    </tr>\n",
       "    <tr>\n",
       "      <th>63</th>\n",
       "      <td>Wood Deck SF</td>\n",
       "      <td>Welch's t-test</td>\n",
       "      <td>-122.439776</td>\n",
       "      <td>0.0</td>\n",
       "      <td>2499.204977</td>\n",
       "      <td>0.0</td>\n",
       "    </tr>\n",
       "    <tr>\n",
       "      <th>64</th>\n",
       "      <td>Open Porch SF</td>\n",
       "      <td>Welch's t-test</td>\n",
       "      <td>-122.471202</td>\n",
       "      <td>0.0</td>\n",
       "      <td>2503.553912</td>\n",
       "      <td>0.0</td>\n",
       "    </tr>\n",
       "    <tr>\n",
       "      <th>65</th>\n",
       "      <td>Enclosed Porch</td>\n",
       "      <td>Welch's t-test</td>\n",
       "      <td>-122.487822</td>\n",
       "      <td>0.0</td>\n",
       "      <td>2505.535606</td>\n",
       "      <td>0.0</td>\n",
       "    </tr>\n",
       "    <tr>\n",
       "      <th>66</th>\n",
       "      <td>3Ssn Porch</td>\n",
       "      <td>Welch's t-test</td>\n",
       "      <td>-122.501691</td>\n",
       "      <td>0.0</td>\n",
       "      <td>2507.364471</td>\n",
       "      <td>0.0</td>\n",
       "    </tr>\n",
       "    <tr>\n",
       "      <th>67</th>\n",
       "      <td>Screen Porch</td>\n",
       "      <td>Welch's t-test</td>\n",
       "      <td>-122.492581</td>\n",
       "      <td>0.0</td>\n",
       "      <td>2506.163196</td>\n",
       "      <td>0.0</td>\n",
       "    </tr>\n",
       "    <tr>\n",
       "      <th>68</th>\n",
       "      <td>Pool Area</td>\n",
       "      <td>Welch's t-test</td>\n",
       "      <td>-122.501921</td>\n",
       "      <td>0.0</td>\n",
       "      <td>2507.395274</td>\n",
       "      <td>0.0</td>\n",
       "    </tr>\n",
       "    <tr>\n",
       "      <th>69</th>\n",
       "      <td>Misc Val</td>\n",
       "      <td>Welch's t-test</td>\n",
       "      <td>-122.466067</td>\n",
       "      <td>0.0</td>\n",
       "      <td>2502.849888</td>\n",
       "      <td>0.0</td>\n",
       "    </tr>\n",
       "    <tr>\n",
       "      <th>70</th>\n",
       "      <td>Mo Sold</td>\n",
       "      <td>Welch's t-test</td>\n",
       "      <td>-122.499242</td>\n",
       "      <td>0.0</td>\n",
       "      <td>2507.406763</td>\n",
       "      <td>0.0</td>\n",
       "    </tr>\n",
       "    <tr>\n",
       "      <th>71</th>\n",
       "      <td>Yr Sold</td>\n",
       "      <td>Welch's t-test</td>\n",
       "      <td>-121.143019</td>\n",
       "      <td>0.0</td>\n",
       "      <td>2507.496874</td>\n",
       "      <td>0.0</td>\n",
       "    </tr>\n",
       "  </tbody>\n",
       "</table>\n",
       "</div>"
      ],
      "text/plain": [
       "           Variable            Test   Statistic  p-value  F-statistic  \\\n",
       "0       MS SubClass  Welch's t-test -122.464552      0.0  2504.780248   \n",
       "2      Lot Frontage  Welch's t-test -122.456542      0.0  2086.932744   \n",
       "3          Lot Area  Welch's t-test -115.068998      0.0  2186.157349   \n",
       "15     Overall Qual  Welch's t-test -122.499324      0.0  2507.498645   \n",
       "16     Overall Cond  Welch's t-test -122.499684      0.0  2507.530646   \n",
       "17       Year Built  Welch's t-test -121.167697      0.0  2505.346170   \n",
       "18   Year Remod/Add  Welch's t-test -121.158954      0.0  2505.963227   \n",
       "24     Mas Vnr Area  Welch's t-test -122.434100      0.0  2478.850855   \n",
       "32     BsmtFin SF 1  Welch's t-test -122.201550      0.0  2473.933969   \n",
       "34     BsmtFin SF 2  Welch's t-test -122.469488      0.0  2502.276175   \n",
       "35      Bsmt Unf SF  Welch's t-test -122.122661      0.0  2475.970450   \n",
       "36    Total Bsmt SF  Welch's t-test -121.789049      0.0  2477.847668   \n",
       "41       1st Flr SF  Welch's t-test -121.716298      0.0  2481.061221   \n",
       "42       2nd Flr SF  Welch's t-test -122.274398      0.0  2477.549433   \n",
       "43  Low Qual Fin SF  Welch's t-test -122.500264      0.0  2507.176967   \n",
       "44      Gr Liv Area  Welch's t-test -121.484864      0.0  2473.537743   \n",
       "45   Bsmt Full Bath  Welch's t-test -122.503161      0.0  2505.846319   \n",
       "46   Bsmt Half Bath  Welch's t-test -122.503412      0.0  2505.879420   \n",
       "47        Full Bath  Welch's t-test -122.502392      0.0  2507.553670   \n",
       "48        Half Bath  Welch's t-test -122.503196      0.0  2507.562892   \n",
       "49    Bedroom AbvGr  Welch's t-test -122.501520      0.0  2507.549365   \n",
       "50    Kitchen AbvGr  Welch's t-test -122.502746      0.0  2507.592695   \n",
       "52    TotRms AbvGrd  Welch's t-test -122.499088      0.0  2507.491622   \n",
       "54       Fireplaces  Welch's t-test -122.503047      0.0  2507.545853   \n",
       "56    Garage Yr Blt  Welch's t-test -121.163108      0.0  2369.694735   \n",
       "58      Garage Cars  Welch's t-test -122.502256      0.0  2506.695033   \n",
       "59      Garage Area  Welch's t-test -122.182638      0.0  2492.364251   \n",
       "63     Wood Deck SF  Welch's t-test -122.439776      0.0  2499.204977   \n",
       "64    Open Porch SF  Welch's t-test -122.471202      0.0  2503.553912   \n",
       "65   Enclosed Porch  Welch's t-test -122.487822      0.0  2505.535606   \n",
       "66       3Ssn Porch  Welch's t-test -122.501691      0.0  2507.364471   \n",
       "67     Screen Porch  Welch's t-test -122.492581      0.0  2506.163196   \n",
       "68        Pool Area  Welch's t-test -122.501921      0.0  2507.395274   \n",
       "69         Misc Val  Welch's t-test -122.466067      0.0  2502.849888   \n",
       "70          Mo Sold  Welch's t-test -122.499242      0.0  2507.406763   \n",
       "71          Yr Sold  Welch's t-test -121.143019      0.0  2507.496874   \n",
       "\n",
       "    F p-value  \n",
       "0         0.0  \n",
       "2         0.0  \n",
       "3         0.0  \n",
       "15        0.0  \n",
       "16        0.0  \n",
       "17        0.0  \n",
       "18        0.0  \n",
       "24        0.0  \n",
       "32        0.0  \n",
       "34        0.0  \n",
       "35        0.0  \n",
       "36        0.0  \n",
       "41        0.0  \n",
       "42        0.0  \n",
       "43        0.0  \n",
       "44        0.0  \n",
       "45        0.0  \n",
       "46        0.0  \n",
       "47        0.0  \n",
       "48        0.0  \n",
       "49        0.0  \n",
       "50        0.0  \n",
       "52        0.0  \n",
       "54        0.0  \n",
       "56        0.0  \n",
       "58        0.0  \n",
       "59        0.0  \n",
       "63        0.0  \n",
       "64        0.0  \n",
       "65        0.0  \n",
       "66        0.0  \n",
       "67        0.0  \n",
       "68        0.0  \n",
       "69        0.0  \n",
       "70        0.0  \n",
       "71        0.0  "
      ]
     },
     "execution_count": 88,
     "metadata": {},
     "output_type": "execute_result"
    }
   ],
   "source": [
    "univariate_res = univariate_analysis(ames_raw_sel_var, target='SalePrice')\n",
    "univariate_res[(univariate_res['p-value'] < 0.05) & (univariate_res['F-statistic'].notnull())]"
   ]
  },
  {
   "cell_type": "code",
   "execution_count": 89,
   "id": "43653886",
   "metadata": {
    "Rmd_chunk_options": "echo=TRUE",
    "kernel": "Python3",
    "tags": [
     "report_cell"
    ]
   },
   "outputs": [],
   "source": [
    "selected_var = univariate_res[(univariate_res['p-value'] < 0.05) & (univariate_res['F-statistic'].notnull())]['Variable'].values\n",
    "\n",
    "def fill_missing(df, sel_var_list):\n",
    "    dfC = df.copy()\n",
    "    for v in sel_var_list:\n",
    "        if dfC[v].isna().sum() > 0 :\n",
    "            if dfC[v].dtype == 'object':\n",
    "                dfC[v].fillna(df[v].mode()[0], inplace=True)\n",
    "            else:\n",
    "                dfC[v].fillna(df[v].median(), inplace=True)\n",
    "        else:\n",
    "            continue\n",
    "    \n",
    "    return dfC\n",
    "\n",
    "ames_Na_filled = fill_missing(df = ames_raw_sel_var, sel_var_list = selected_var)"
   ]
  },
  {
   "cell_type": "code",
   "execution_count": 93,
   "id": "d695996f",
   "metadata": {},
   "outputs": [
    {
     "data": {
      "text/plain": [
       "array(['MS SubClass', 'Lot Frontage', 'Lot Area', 'Overall Qual',\n",
       "       'Overall Cond', 'Year Built', 'Year Remod/Add', 'Mas Vnr Area',\n",
       "       'BsmtFin SF 1', 'BsmtFin SF 2', 'Bsmt Unf SF', 'Total Bsmt SF',\n",
       "       '1st Flr SF', '2nd Flr SF', 'Low Qual Fin SF', 'Gr Liv Area',\n",
       "       'Bsmt Full Bath', 'Bsmt Half Bath', 'Full Bath', 'Half Bath',\n",
       "       'Bedroom AbvGr', 'Kitchen AbvGr', 'TotRms AbvGrd', 'Fireplaces',\n",
       "       'Garage Yr Blt', 'Garage Cars', 'Garage Area', 'Wood Deck SF',\n",
       "       'Open Porch SF', 'Enclosed Porch', '3Ssn Porch', 'Screen Porch',\n",
       "       'Pool Area', 'Misc Val', 'Mo Sold', 'Yr Sold'], dtype=object)"
      ]
     },
     "execution_count": 93,
     "metadata": {},
     "output_type": "execute_result"
    }
   ],
   "source": [
    "selected_var"
   ]
  },
  {
   "cell_type": "code",
   "execution_count": 95,
   "id": "a688cefa",
   "metadata": {},
   "outputs": [],
   "source": [
    "selected_var = np.delete(selected_var, np.where(selected_var == 'Yr Sold'))"
   ]
  },
  {
   "cell_type": "code",
   "execution_count": 108,
   "id": "4f186f98",
   "metadata": {},
   "outputs": [],
   "source": [
    "from sklearn.linear_model import LassoCV\n",
    "\n",
    "trainX_2008 = ames_Na_filled[ames_Na_filled['Yr Sold'] < 2008].drop(columns=['SalePrice'])[selected_var]\n",
    "trainY_2008 = ames_Na_filled[ames_Na_filled['Yr Sold'] < 2008]['SalePrice']\n",
    "\n",
    "testX_2009 = ames_Na_filled[ames_Na_filled['Yr Sold'] >= 2008].drop(columns=['SalePrice'])[selected_var]\n",
    "testY_2009 = ames_Na_filled[ames_Na_filled['Yr Sold'] >= 2008]['SalePrice']"
   ]
  },
  {
   "cell_type": "code",
   "execution_count": 109,
   "id": "f110e09d",
   "metadata": {},
   "outputs": [],
   "source": [
    "from sklearn.preprocessing import StandardScaler\n",
    "scaler = StandardScaler()\n",
    "trainX_2008_scaled = scaler.fit_transform(trainX_2008)\n",
    "testX_2009_scaled = scaler.transform(testX_2009)"
   ]
  },
  {
   "cell_type": "code",
   "execution_count": 110,
   "id": "789f8d15",
   "metadata": {},
   "outputs": [
    {
     "name": "stdout",
     "output_type": "stream",
     "text": [
      "Best alpha using built-in LassoCV: 1.000000\n"
     ]
    }
   ],
   "source": [
    "lasso_cv = LassoCV(alphas = [1, 0.1, 0.01, 0.001, 0.0001], cv = 5, max_iter = 100000)\n",
    "\n",
    "lasso_cv.fit(trainX_2008_scaled, trainY_2008)\n",
    "\n",
    "print(\"Best alpha using built-in LassoCV: %f\" % lasso_cv.alpha_)\n",
    "\n",
    "lasso_pred_2009 = lasso_cv.predict(testX_2009_scaled)"
   ]
  },
  {
   "cell_type": "markdown",
   "id": "03b359b5",
   "metadata": {},
   "source": [
    "Your answer:\n",
    "\n",
    "~~~\n",
    "Please write your answer in full sentences.\n",
    "\n",
    "\n",
    "~~~\n",
    "\n",
    "Compare the result before and after the feature engineering step."
   ]
  },
  {
   "cell_type": "code",
   "execution_count": 115,
   "id": "65633c80",
   "metadata": {},
   "outputs": [
    {
     "data": {
      "text/plain": [
       "1611"
      ]
     },
     "execution_count": 115,
     "metadata": {},
     "output_type": "execute_result"
    }
   ],
   "source": [
    "len(pred_2009)"
   ]
  },
  {
   "cell_type": "code",
   "execution_count": 117,
   "id": "e2130e41",
   "metadata": {},
   "outputs": [
    {
     "name": "stdout",
     "output_type": "stream",
     "text": [
      "original model\n",
      "(35187.62155833909, 33892139.866361514)\n",
      "Lasso + selected var + imputation\n",
      "(32759.98385794762, 31683716.688065164)\n"
     ]
    }
   ],
   "source": [
    "print('original model')\n",
    "print(calc_loss(pred_2009, testY_2009))\n",
    "print('Lasso + selected var + imputation')\n",
    "print(calc_loss(lasso_pred_2009, testY_2009))"
   ]
  },
  {
   "cell_type": "markdown",
   "id": "a5bfae00",
   "metadata": {},
   "source": [
    "Your answer:\n",
    "\n",
    "~~~\n",
    "Please write your answer in full sentences.\n",
    "\n",
    "Slightly better\n",
    "\n",
    "~~~"
   ]
  },
  {
   "cell_type": "markdown",
   "id": "21b5b5f7",
   "metadata": {},
   "source": [
    "## AutoML"
   ]
  },
  {
   "cell_type": "markdown",
   "id": "5fb54363",
   "metadata": {},
   "source": [
    "Feature engineering is mostly about context.  But does it matter if the prediction is of interest?  Is there automatic ways to do all of this that is better?  Let's find out.\n",
    "\n",
    "Include all the vairables you included as well as anything you want to add to the model."
   ]
  },
  {
   "cell_type": "code",
   "execution_count": null,
   "id": "302f0c4e",
   "metadata": {
    "kernel": "Python3",
    "tags": [
     "report_cell"
    ]
   },
   "outputs": [],
   "source": [
    "vars = [\"SalePrice\",\"Lot Area\",\"Gr Liv Area\",\"Full Bath\"]\n",
    "#vars <- c(\"SalePrice\")#"
   ]
  },
  {
   "cell_type": "code",
   "execution_count": null,
   "id": "e0a5b96a",
   "metadata": {
    "kernel": "Python3",
    "tags": [
     "report_cell"
    ]
   },
   "outputs": [],
   "source": [
    "train_set = ames_raw_2008.loc[:, vars]\n",
    "test_set  = ames_raw_2009.loc[:, vars]\n",
    "\n",
    "train_set[\"SalePrice\"] = np.log(train_set[\"SalePrice\"])\n",
    "test_set[\"SalePrice\"] = np.log(test_set[\"SalePrice\"])"
   ]
  },
  {
   "cell_type": "markdown",
   "id": "983f8393",
   "metadata": {},
   "source": [
    "### Pycaret"
   ]
  },
  {
   "cell_type": "code",
   "execution_count": null,
   "id": "09874892",
   "metadata": {
    "kernel": "Python3",
    "tags": [
     "report_cell"
    ]
   },
   "outputs": [],
   "source": [
    "# https://michael-fuchs-python.netlify.app/2022/01/15/automl-using-pycaret-regression/\n",
    "import pycaret.regression  as pycr\n",
    "\n",
    "summary_preprocess = pycr.setup(train_set,\n",
    "                                target = 'SalePrice',\n",
    "                                numeric_features = [\"Lot Area\",\"Gr Liv Area\",\"Full Bath\"],\n",
    "                                normalize = True,\n",
    "                                feature_selection = True,\n",
    "                                remove_multicollinearity = True)\n",
    "available_models = pycr.models()\n",
    "best_reg = pycr.compare_models()\n",
    "evaluation_best_clf = pycr.evaluate_model(best_reg)"
   ]
  },
  {
   "cell_type": "markdown",
   "id": "a1867db0",
   "metadata": {},
   "source": [
    "### H2O autoML\n",
    "\n",
    "h2o autoML is well known in the field as something pretty powerful.\n",
    "https://docs.h2o.ai/h2o/latest-stable/h2o-docs/automl.html"
   ]
  },
  {
   "cell_type": "code",
   "execution_count": null,
   "id": "6241f7fa",
   "metadata": {
    "Rmd_chunk_options": "eval=FALSE",
    "kernel": "Python3",
    "tags": [
     "report_cell"
    ]
   },
   "outputs": [],
   "source": [
    "import h2o\n",
    "from h2o.automl import H2OAutoML\n",
    "localH2O = h2o.init(nthreads = -1, max_mem_size=\"4g\")\n",
    "# upload the data\n",
    "train_hf = h2o.H2OFrame(train_set)\n",
    "test_hf = h2o.H2OFrame(test_set)\n",
    "\n",
    "aml = H2OAutoML(max_models=10, max_runtime_secs=10,seed=1)\n",
    "# Train the model\n",
    "aml.train(x=[\"Lot Area\",\"Gr Liv Area\",\"Full Bath\"], y=\"SalePrice\", training_frame=train_hf)\n",
    "# Look at the result\n",
    "lb = aml.leaderboard\n",
    "lb.head(rows=lb.nrows)  # Print all rows instead of default (10 rows)\n",
    "\n",
    "# The leader model is stored here\n",
    "aml.leader\n",
    "preds = aml.leader.predict(test_hf)\n",
    "# Get the best performing model\n",
    "m = aml.get_best_model()\n",
    "\n",
    "# Get the best model using a non-default metric\n",
    "m = aml.get_best_model(criterion=\"rmse\")\n",
    "\n",
    "# Get the best XGBoost model using default sort metric\n",
    "xgb = aml.get_best_model(algorithm=\"xgboost\")\n",
    "\n",
    "h2o.cluster().shutdown(prompt =False)"
   ]
  },
  {
   "cell_type": "markdown",
   "id": "e8bb7c2c",
   "metadata": {},
   "source": [
    "### autosklern\n",
    "\n",
    "I was not able to make autosklearn work on Mac."
   ]
  },
  {
   "cell_type": "code",
   "execution_count": null,
   "id": "c76f2ad3",
   "metadata": {
    "kernel": "Python3",
    "tags": [
     "report_cell"
    ]
   },
   "outputs": [],
   "source": [
    "# import autosklearn.regression\n",
    "# automl = autosklearn.regression.AutoSklearnRegressor(\n",
    "#     time_left_for_this_task=120,\n",
    "#     per_run_time_limit=30,\n",
    "#     tmp_folder=\"/tmp/autosklearn_regression_example_tmp\",\n",
    "# )\n",
    "# automl.fit(X_train, y_train, dataset_name=\"diabetes\")"
   ]
  },
  {
   "cell_type": "markdown",
   "id": "fa6eeb58",
   "metadata": {},
   "source": [
    "### autoxgboost\n",
    "\n",
    "XG Boost is a popular implementation of gradient boosting method that we will talk about in MA679.  Leaving aside the detail, it's another popular ML method that has a lot of tuning parameters.  AutoXGBoost is a function that would search for good choice of these parameters automaticall.\n",
    "\n",
    "I was not able to make autoxgboost work on Mac."
   ]
  },
  {
   "cell_type": "code",
   "execution_count": null,
   "id": "5941e527",
   "metadata": {
    "Rmd_chunk_options": "eval=FALSE",
    "kernel": "Python3",
    "tags": [
     "report_cell"
    ]
   },
   "outputs": [],
   "source": [
    "# load library\n",
    "# from autoxgb import AutoXGB\n",
    "#\n",
    "# train_set.to_csv('train_set.csv', index=False)\n",
    "# test_set.to_csv('test_set.csv', index=False)\n",
    "#\n",
    "# axgb = AutoXGB(\n",
    "#     train_filename=\"train_set.csv\",\n",
    "#     output=\"output\",\n",
    "#     test_filename=\"test_set.csv\",\n",
    "#     task=None,\n",
    "#     idx=None,\n",
    "#     targets=[\"SalePrice\"],\n",
    "#     features=None,\n",
    "#     categorical_features=None,\n",
    "#     use_gpu=False,\n",
    "#     num_folds=5,\n",
    "#     seed=123,\n",
    "#     num_trials=100,\n",
    "#     time_limit=30,\n",
    "#     fast=False,\n",
    "# )\n",
    "# axgb.train()"
   ]
  }
 ],
 "metadata": {
  "Rmd_chunk_options": {
   "author": "Masanao Yajima",
   "date": "2023-01-05",
   "output": "html_document",
   "title": "Auto ML vs Feature Engineering"
  },
  "kernelspec": {
   "display_name": "Python 3 (ipykernel)",
   "language": "python",
   "name": "python3"
  },
  "language_info": {
   "codemirror_mode": {
    "name": "ipython",
    "version": 3
   },
   "file_extension": ".py",
   "mimetype": "text/x-python",
   "name": "python",
   "nbconvert_exporter": "python",
   "pygments_lexer": "ipython3",
   "version": "3.9.7"
  },
  "sos": {
   "kernels": [
    [
     "SoS",
     "sos",
     "",
     ""
    ],
    [
     "css",
     "css",
     "",
     ""
    ],
    [
     "R",
     "ir",
     "",
     ""
    ],
    [
     "Python3",
     "ir",
     "",
     ""
    ]
   ]
  }
 },
 "nbformat": 4,
 "nbformat_minor": 5
}
